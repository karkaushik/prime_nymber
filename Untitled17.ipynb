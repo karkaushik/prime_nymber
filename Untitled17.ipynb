{
  "nbformat": 4,
  "nbformat_minor": 0,
  "metadata": {
    "colab": {
      "name": "Untitled17.ipynb",
      "provenance": [],
      "authorship_tag": "ABX9TyPh45cVd9IFNAhtjd4DDBbV",
      "include_colab_link": true
    },
    "kernelspec": {
      "name": "python3",
      "display_name": "Python 3"
    },
    "language_info": {
      "name": "python"
    }
  },
  "cells": [
    {
      "cell_type": "markdown",
      "metadata": {
        "id": "view-in-github",
        "colab_type": "text"
      },
      "source": [
        "<a href=\"https://colab.research.google.com/github/karkaushik/prime_nymber/blob/main/Untitled17.ipynb\" target=\"_parent\"><img src=\"https://colab.research.google.com/assets/colab-badge.svg\" alt=\"Open In Colab\"/></a>"
      ]
    },
    {
      "cell_type": "code",
      "execution_count": null,
      "metadata": {
        "id": "bYdN-1V1yB_o"
      },
      "outputs": [],
      "source": [
        "#prime numer"
      ]
    },
    {
      "cell_type": "code",
      "source": [
        "def Prime_Number():\n",
        " num=20\n",
        "\n",
        "for i in range(2,num):\n",
        "  if num % i==0:\n",
        "    print(\"not prime\")\n",
        "    break\n",
        " \n",
        "else:\n",
        "      print(\"prime\")"
      ],
      "metadata": {
        "colab": {
          "base_uri": "https://localhost:8080/"
        },
        "id": "toZ6xxZsz3JA",
        "outputId": "d5ee2849-8091-4085-edb2-dd9c938fee6e"
      },
      "execution_count": 11,
      "outputs": [
        {
          "output_type": "stream",
          "name": "stdout",
          "text": [
            "not prime\n"
          ]
        }
      ]
    }
  ]
}